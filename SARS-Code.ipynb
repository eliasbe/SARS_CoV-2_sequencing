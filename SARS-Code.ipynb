{
 "cells": [
  {
   "cell_type": "markdown",
   "metadata": {},
   "source": [
    "# SARS-COV-2 raðgreining\n",
    "Elías Bjartur Einarsson - ebe19@hi.is <br>\n",
    "Þórhallur Auður Helgason - thh114@hi.is"
   ]
  },
  {
   "cell_type": "code",
   "execution_count": 1,
   "metadata": {},
   "outputs": [],
   "source": [
    "\n",
    "def parse_fasta(fn):\n",
    "    with open(fn,'r') as f:\n",
    "        line = f.readline()\n",
    "        name = line[1:line.find(' ')].strip()\n",
    "        seq = []\n",
    "        while line:\n",
    "            line = f.readline()\n",
    "            seq.append(line.strip())\n",
    "    return name,''.join(seq)\n",
    "                "
   ]
  },
  {
   "cell_type": "code",
   "execution_count": 2,
   "metadata": {},
   "outputs": [],
   "source": [
    "name,ref = parse_fasta('reference.fasta')"
   ]
  },
  {
   "cell_type": "code",
   "execution_count": 3,
   "metadata": {},
   "outputs": [
    {
     "name": "stdout",
     "output_type": "stream",
     "text": [
      "MN908947.3 29903\n"
     ]
    }
   ],
   "source": [
    "print(name,len(ref))"
   ]
  },
  {
   "cell_type": "code",
   "execution_count": 4,
   "metadata": {},
   "outputs": [],
   "source": [
    "def parse_fastq(fn,limit=None):\n",
    "    seqs = []\n",
    "    with open(fn,'r') as f:\n",
    "        i = 0\n",
    "        while limit is None or i < limit:\n",
    "            _ = f.readline()\n",
    "            seq = f.readline().strip()\n",
    "            _ = f.readline()\n",
    "            _ = f.readline()\n",
    "            seqs.append(seq)\n",
    "            i += 1\n",
    "    return seqs"
   ]
  },
  {
   "cell_type": "code",
   "execution_count": 5,
   "metadata": {},
   "outputs": [],
   "source": [
    "Seqs = parse_fastq('SRR11397721_1.fastq', 1500000)"
   ]
  },
  {
   "cell_type": "code",
   "execution_count": 6,
   "metadata": {},
   "outputs": [],
   "source": [
    "Seqs2 = parse_fastq('SRR11397721_2.fastq', 1500000)"
   ]
  },
  {
   "cell_type": "code",
   "execution_count": 7,
   "metadata": {},
   "outputs": [],
   "source": [
    "d = dict(zip('ACGT', 'TGCA'))\n",
    "def revComp(pattern):\n",
    "    return ''.join(d[x] for x in pattern[::-1])\n",
    "\n",
    "revcmp = lambda p: ''.join(d[s] for s in p[::-1])"
   ]
  },
  {
   "cell_type": "code",
   "execution_count": 8,
   "metadata": {},
   "outputs": [],
   "source": [
    "def kmerDict(k, Text):\n",
    "    n = len(Text)\n",
    "    Kramer = {}\n",
    "    for i in range(n-k+1):\n",
    "        kmer = Text[i:i+k]\n",
    "        if kmer in Kramer:\n",
    "            Kramer[kmer].append(i)\n",
    "        else:\n",
    "            Kramer[kmer] = [i]\n",
    "    return Kramer\n",
    "\n",
    "def kmerList(k, Text):\n",
    "    n = len(Text)\n",
    "    Kramer = []\n",
    "    for i in range(n-k+1):\n",
    "        kmer = Text[i:i+k]\n",
    "        Kramer.append(kmer)\n",
    "    return Kramer"
   ]
  },
  {
   "cell_type": "code",
   "execution_count": 9,
   "metadata": {},
   "outputs": [],
   "source": [
    "import json\n",
    "\n",
    "Sars21dict = kmerDict(21, ref)\n",
    "\n",
    "jsonDump = json.dumps(Sars21dict)\n",
    "f = open(\"Sars21Dict.json\",\"w\")\n",
    "f.write(jsonDump)\n",
    "f.close()"
   ]
  },
  {
   "cell_type": "code",
   "execution_count": 10,
   "metadata": {},
   "outputs": [],
   "source": [
    "def ham(a, b):\n",
    "    n = len(a)\n",
    "    m = len(b)\n",
    "    if (n-m!=0): \n",
    "        print(\"mislöng\")\n",
    "    count = 0\n",
    "    for i in range(n):\n",
    "        if (a[i]!=b[i]):\n",
    "            count += 1\n",
    "    return count\n",
    "        "
   ]
  },
  {
   "cell_type": "code",
   "execution_count": 11,
   "metadata": {},
   "outputs": [],
   "source": [
    "import json\n",
    "\n",
    "with open('Sars21Dict.json', 'r') as f:\n",
    "    Dict21 = json.loads(f.read()) \n"
   ]
  },
  {
   "cell_type": "code",
   "execution_count": 12,
   "metadata": {},
   "outputs": [],
   "source": [
    "toIdx = dict(zip('-ACGT', range(5)))\n",
    "toNt = dict(zip(range(5), '-ACGT'))"
   ]
  },
  {
   "cell_type": "code",
   "execution_count": 13,
   "metadata": {},
   "outputs": [],
   "source": [
    "def Fitting(lest):\n",
    "    Upphöf = {} # Þær staðsetningar í ref sem koma til greina fyrir þetta read (þessa lest)\n",
    "    lestarListi = kmerList(21, lest) # Samsetning þessarar lestar í 21-merum\n",
    "    # Finnum þá upphafstaði sem koma til greina\n",
    "    for i, kmer in enumerate(lestarListi):\n",
    "        if kmer in Dict21:\n",
    "            for pos in Dict21[kmer]:\n",
    "                #print(pos)\n",
    "                if pos-i in Upphöf:\n",
    "                    Upphöf[pos-i] += 1\n",
    "                else:\n",
    "                    Upphöf[pos-i] = 1\n",
    "        # Athugum hvort reverse complement birtist, neikvæð stig til að halda utan um að hún sé öfug\n",
    "        elif revComp(kmer) in Dict21:\n",
    "            for pos in Dict21[revComp(kmer)]:\n",
    "                #print(pos)\n",
    "                if pos+i in Upphöf:\n",
    "                    Upphöf[pos+i] += -1 \n",
    "                else:\n",
    "                    Upphöf[pos+i] = -1\n",
    "\n",
    "        # Ef hvorugt finnst þá gerum við ekkert\n",
    "         \n",
    "    Lkmer = len(lest)-20\n",
    "    # Hámarksfjöldi villna ef aðeins 1 mismatch er í lest og ekkert indel reiknast skv. þessari formúlu \n",
    "    # Ef villur fara yfir þennan þröskuld, er strax ljóst að villur eru 2+ eða indel kemur fyrir.\n",
    "    # getur orðið meira en 100% fyrir mjög stutta strengi en skiptir ekki öllu\n",
    "    Lthreshold = 21/Lkmer\n",
    "\n",
    "    # Finnum þann upphafsstað sem oftast kemur fyrir. \n",
    "    #Notum tölugildi til að telja jafnt þær á réttunni og þær á röngunni\n",
    "    maxInDict = 0\n",
    "    Rev = False\n",
    "    réttUpphaf = None\n",
    "    for key, value in Upphöf.items():\n",
    "        if abs(value) > maxInDict:\n",
    "            maxInDict = abs(value)\n",
    "            if value < 0:\n",
    "                réttUpphaf = key - len(lest) + 21\n",
    "                Rev = True\n",
    "            else:\n",
    "                réttUpphaf = key\n",
    "    nonMatch = (1 - maxInDict)/Lkmer\n",
    "    # sendum lest í local-alignment ef víst er að villur eru tvær eða indel hliðrun, miðum við þröskuldinn\n",
    "    localAlign = (nonMatch > Lthreshold)\n",
    "\n",
    "    return(réttUpphaf, Rev, localAlign)\n",
    "        "
   ]
  },
  {
   "cell_type": "code",
   "execution_count": 14,
   "metadata": {},
   "outputs": [],
   "source": [
    "def localAlignment(lest, comparison):\n",
    "    m = len(lest)\n",
    "    n = len(comparison)\n",
    "    sigma = 1\n",
    "    matrix = np.zeros((n+1, m+1), dtype=int)\n",
    "    backtrack = np.zeros((n+1, m+1), dtype=int)\n",
    "    taxiBack = False\n",
    "    for i in range(1, n+1):\n",
    "        for j in range(1, m+1):\n",
    "            diag = matrix[i-1, j-1] + int(lest[j-1]==comparison[i-1])\n",
    "            down = matrix[i-1, j]\n",
    "            right = matrix[i, j-1]\n",
    "            # Ef síðasta stak þá bjóðum við upp á ókeypis ferð frá hæsta gildi \n",
    "            # fylkisins þangað og höldum utan um hvaðan það kemur\n",
    "            if j == m and i == n:\n",
    "                _max = np.amax(matrix)\n",
    "                \n",
    "                if _max == max([diag, down, right, 0, _max]):\n",
    "                    taxiBack = True\n",
    "                    departure = np.where(matrix == np.amax(matrix)) \n",
    "                    matrix[i, j] = _max\n",
    "                    backtrack[i, j] = 10 \n",
    "                else:\n",
    "                    matrix[i, j] = max([diag, down, right, 0])\n",
    "                    if matrix[i,j] == down: \n",
    "                        backtrack[i, j] = 1\n",
    "                    elif matrix[i, j] == right: \n",
    "                        backtrack[i, j] = 2\n",
    "                    elif matrix[i, j] == diag:\n",
    "                        backtrack[i, j] = 3\n",
    "                    elif matrix[i, j] == 0:\n",
    "                        backtrack[i, j] = 0\n",
    "            else:\n",
    "                matrix[i, j] = max([diag, down, right, 0])\n",
    "\n",
    "                if matrix[i,j] == down: \n",
    "                    backtrack[i, j] = 1\n",
    "                elif matrix[i, j] == right: \n",
    "                    backtrack[i, j] = 2\n",
    "                elif matrix[i, j] == diag:\n",
    "                    backtrack[i, j] = 3\n",
    "                elif matrix[i, j] == 0:\n",
    "                    backtrack[i, j] = 0\n",
    "    \n",
    "    stig = int(matrix[n, m])\n",
    "    if taxiBack:\n",
    "        i = int(departure[0])\n",
    "        j = int(departure[1])\n",
    "    else: # þegar satt\n",
    "        i = n\n",
    "        j = m\n",
    "    efri = []\n",
    "    neðri = []\n",
    "    while backtrack[i, j] != 0:\n",
    "        if backtrack[i, j] == 1:\n",
    "            # Við viljum ekki að reference strengur geti stækkað\n",
    "            # fengum að vita í verkefninu að consensus-strengur ætti ekki að byggja á slíku, svo þetta er í lagi\n",
    "            i -= 1\n",
    "        elif backtrack[i, j] == 2:\n",
    "            efri.append(lest[j-1])\n",
    "            neðri.append('-')\n",
    "            j -= 1\n",
    "        else:\n",
    "            efri.append(lest[j-1])\n",
    "            neðri.append(comparison[i-1])\n",
    "            i -=1\n",
    "            j -= 1\n",
    "    efri.reverse()\n",
    "    neðri.reverse()\n",
    "    \n",
    "    return ''.join(efri), ''.join(neðri)"
   ]
  },
  {
   "cell_type": "code",
   "execution_count": 15,
   "metadata": {},
   "outputs": [],
   "source": [
    "import numpy as np\n",
    "def CntMatrix(seqs):\n",
    "    # uppfæra CountMatrix m.t.t. gata\n",
    "    CountMatrix = np.zeros((5, len(ref)), dtype=int)\n",
    "\n",
    "    for lestanumer, lest in enumerate(seqs):\n",
    "        if lestanumer % (len(seqs)//10) == 0: # Eina þörfin fyrir lestanumer akkúrat núna\n",
    "            print('lestarvagn ' + str(lestanumer))\n",
    "        réttUpphaf, Rev, localAlign = Fitting(lest)\n",
    "        if réttUpphaf == None: # Kmerar lestarinnar ekki að finna. Kannski mjög stutt með villu\n",
    "            continue\n",
    "        \n",
    "        # snýr lestin öfugt?\n",
    "        if Rev:\n",
    "            lest = revComp(lest)\n",
    "            \n",
    "        # ef lestin var lesin öfugt niður og hefur indel, gæti hún hafa farið yfir upphafið. Hliðrum því.\n",
    "        if réttUpphaf < 0:\n",
    "            lest = lest[abs(réttUpphaf):]\n",
    "            réttUpphaf = 0\n",
    "            \n",
    "        # skoða hvort þurfi að laga með local alignment\n",
    "        if localAlign:\n",
    "            comparison = ref[réttUpphaf:réttUpphaf + len(lest) + 6] # 6 er handvalinn buffer hér fyrir local alignment\n",
    "            lest, alignedRef = localAlignment(lest, comparison)\n",
    "        \n",
    "        # uppfæra count matrix út frá lestinni\n",
    "        for idx, nt in enumerate(lest):\n",
    "            if réttUpphaf + idx == CountMatrix.shape[1]: \n",
    "            #ef indel eða staðsetning lestar valda því að við förum út fyrir ref; hætta en geyma það sem var komið\n",
    "                break\n",
    "            CountMatrix[toIdx[nt], réttUpphaf + idx] += 1\n",
    "\n",
    "\n",
    "    print('Endastöð. Please mind the gap.')\n",
    "    return CountMatrix"
   ]
  },
  {
   "cell_type": "code",
   "execution_count": 16,
   "metadata": {},
   "outputs": [],
   "source": [
    "import matplotlib.pyplot as plt\n",
    "np.seterr(divide='ignore', invalid='ignore')\n",
    "\n",
    "def Sequencer(n_reads, ref): # n_reads er fjöldi lestra úr hvoru safninu -> tvöfalt magn skoðað\n",
    "    seqs = Seqs[:n_reads]+Seqs2[:n_reads]\n",
    "    ProfileMatrix = CntMatrix(seqs)\n",
    "    ConsensusBase = np.argmax(ProfileMatrix, axis=0)\n",
    "    Consensus = []\n",
    "    for base in ConsensusBase:\n",
    "        Consensus.append(toNt[base])\n",
    "    HammingDistance = ham(ref, Consensus)\n",
    "    \n",
    "    Depth = np.sum(ProfileMatrix, axis=0)\n",
    "    Score = np.amax(ProfileMatrix, axis=0)\n",
    "    Quality = Score/Depth\n",
    "    StartCut = 0\n",
    "    while Depth[StartCut] < 100:\n",
    "        StartCut += 1\n",
    "    EndCut = len(ref)-1\n",
    "    while Depth[EndCut] < 100:\n",
    "        EndCut += -1\n",
    "    InternalHamming = ham(ref[StartCut:EndCut], Consensus[StartCut:EndCut])\n",
    "    \n",
    "    fig, axs = plt.subplots(2, 1, constrained_layout=True)\n",
    "    axs[0].plot(range(len(Depth)), Depth)\n",
    "    axs[0].set_title('Depth of Sequencing')\n",
    "    axs[0].set_xlabel('Location')\n",
    "    axs[0].set_ylabel('Depth')\n",
    "    fig.suptitle('Reliability of Consensus String', fontsize=16)\n",
    "\n",
    "    axs[1].plot(range(len(Quality)), Quality)\n",
    "    axs[1].set_title('Ratio for consensus')\n",
    "    axs[1].set_xlabel('Location')\n",
    "    axs[1].set_ylabel('Ratio')\n",
    "    \n",
    "    plt.show()\n",
    "    #plt.savefig('Reliability.jpeg', quality = 95, transparent = True, dpi = 'figure', optimize = True)\n",
    "\n",
    "    print('\\n')\n",
    "    print('Total Hamming distance between reference and consensus string: ', HammingDistance, '\\n')\n",
    "    print('Hamming distance ignoring unreliable regions at beginning and end of string: ', InternalHamming, '\\n')\n",
    "    print('Average depth of sequencing: ', int(round(np.sum(Depth,axis=0)/len(ref))), '\\n')\n",
    "    print('Beginning region unreliable (depth < 100) for first ', StartCut, ' basepairs.', '\\n')\n",
    "    print('Ending region unreliable (depth < 100) for last ', (len(ref)-EndCut), ' basepairs.', '\\n')\n",
    "    print('Variations between reference and consensus string:', '\\n')\n",
    "    for i in range(StartCut,EndCut):\n",
    "        if ref[i] != Consensus[i]:\n",
    "            print('Location ', i+1, ': ', ref[i], ' (reference) to ', Consensus[i], ' (consensus) with ', '{:04.1f}'.format(100*Quality[i]), '% vote' '\\n')\n",
    "    return(Consensus, ProfileMatrix)"
   ]
  },
  {
   "cell_type": "code",
   "execution_count": 19,
   "metadata": {},
   "outputs": [
    {
     "name": "stdout",
     "output_type": "stream",
     "text": [
      "lestarvagn 0\n",
      "lestarvagn 180000\n",
      "lestarvagn 360000\n",
      "lestarvagn 540000\n",
      "lestarvagn 720000\n",
      "lestarvagn 900000\n",
      "lestarvagn 1080000\n",
      "lestarvagn 1260000\n",
      "lestarvagn 1440000\n",
      "lestarvagn 1620000\n",
      "Endastöð. Please mind the gap.\n"
     ]
    },
    {
     "data": {
      "image/png": "[encoded data removed]",
      "text/plain": [
       "<Figure size 432x288 with 2 Axes>"
      ]
     },
     "metadata": {
      "needs_background": "light"
     },
     "output_type": "display_data"
    },
    {
     "name": "stdout",
     "output_type": "stream",
     "text": [
      "\n",
      "\n",
      "Total Hamming distance between reference and consensus string:  49 \n",
      "\n",
      "Hamming distance ignoring unreliable regions at beginning and end of string:  9 \n",
      "\n",
      "Average depth of sequencing:  4231 \n",
      "\n",
      "Beginning region unreliable (depth < 100) for first  39  basepairs. \n",
      "\n",
      "Ending region unreliable (depth < 100) for last  53  basepairs. \n",
      "\n",
      "Variations between reference and consensus string: \n",
      "\n",
      "Location  884 :  C  (reference) to  T  (consensus) with  99.6 % vote\n",
      "\n",
      "Location  1397 :  G  (reference) to  A  (consensus) with  99.4 % vote\n",
      "\n",
      "Location  8653 :  G  (reference) to  T  (consensus) with  99.0 % vote\n",
      "\n",
      "Location  11083 :  G  (reference) to  T  (consensus) with  98.1 % vote\n",
      "\n",
      "Location  12357 :  C  (reference) to  T  (consensus) with  99.6 % vote\n",
      "\n",
      "Location  13506 :  C  (reference) to  T  (consensus) with  98.8 % vote\n",
      "\n",
      "Location  26447 :  C  (reference) to  T  (consensus) with  99.7 % vote\n",
      "\n",
      "Location  28688 :  T  (reference) to  C  (consensus) with  95.2 % vote\n",
      "\n",
      "Location  29742 :  G  (reference) to  T  (consensus) with  99.7 % vote\n",
      "\n"
     ]
    }
   ],
   "source": [
    "BigConString, BigProfile = Sequencer(900000,ref)"
   ]
  },
  {
   "cell_type": "code",
   "execution_count": 33,
   "metadata": {},
   "outputs": [],
   "source": [
    "import csv\n",
    "\n",
    "with open('Sars-Cov-2.csv', mode='w') as csv_file:\n",
    "    fieldnames = ['POSITION', 'REFERENCE', 'ALTERNATIVE']\n",
    "    writer = csv.DictWriter(csv_file, fieldnames=fieldnames, delimiter='\\t')\n",
    "    writer.writeheader()\n",
    "    for i in range(39,len(ref)-53):\n",
    "        if ref[i] != BigConString[i]:\n",
    "            writer.writerow({'POSITION': i+1, 'REFERENCE': ref[i], 'ALTERNATIVE': BigConString[i]})\n"
   ]
  },
  {
   "cell_type": "code",
   "execution_count": 23,
   "metadata": {},
   "outputs": [
    {
     "data": {
      "image/png": "[encoded data removed]",
      "text/plain": [
       "<Figure size 432x288 with 1 Axes>"
      ]
     },
     "metadata": {
      "needs_background": "light"
     },
     "output_type": "display_data"
    }
   ],
   "source": [
    "import warnings\n",
    "warnings.simplefilter('ignore')\n",
    "\n",
    "depth = np.sum(BigProfile, axis=0)\n",
    "import matplotlib.pyplot as plt\n",
    "plt.plot(range(len(depth)), depth)\n",
    "plt.show\n",
    "plt.savefig('DepthOfSequencing.jpeg', quality = 95, transparent = True, dpi = 'figure', optimize = True)"
   ]
  },
  {
   "cell_type": "code",
   "execution_count": 24,
   "metadata": {},
   "outputs": [
    {
     "data": {
      "image/png": "[encoded data removed]",
      "text/plain": [
       "<Figure size 432x288 with 1 Axes>"
      ]
     },
     "metadata": {
      "needs_background": "light"
     },
     "output_type": "display_data"
    }
   ],
   "source": [
    "score = np.amax(BigProfile, axis=0)\n",
    "consensus = score/depth\n",
    "import matplotlib.pyplot as plt\n",
    "plt.plot(range(len(consensus)), consensus)\n",
    "plt.show\n",
    "plt.savefig('SequencingConsensus.jpeg', quality = 95, transparent = True, dpi = 'figure', optimize = True)"
   ]
  }
 ],
 "metadata": {
  "kernelspec": {
   "display_name": "Python 3 (ipykernel)",
   "language": "python",
   "name": "python3"
  },
  "language_info": {
   "codemirror_mode": {
    "name": "ipython",
    "version": 3
   },
   "file_extension": ".py",
   "mimetype": "text/x-python",
   "name": "python",
   "nbconvert_exporter": "python",
   "pygments_lexer": "ipython3",
   "version": "3.10.2"
  }
 },
 "nbformat": 4,
 "nbformat_minor": 4
}
